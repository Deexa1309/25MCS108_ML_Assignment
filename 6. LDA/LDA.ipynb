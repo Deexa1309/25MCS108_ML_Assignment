{
  "nbformat": 4,
  "nbformat_minor": 0,
  "metadata": {
    "colab": {
      "provenance": [],
      "gpuType": "T4"
    },
    "kernelspec": {
      "name": "python3",
      "display_name": "Python 3"
    },
    "language_info": {
      "name": "python"
    },
    "accelerator": "GPU"
  },
  "cells": [
    {
      "cell_type": "markdown",
      "source": [
        "LDA without using built in Python libary\n",
        "\n"
      ],
      "metadata": {
        "id": "8jNsX8IxAH6q"
      }
    },
    {
      "cell_type": "code",
      "source": [
        "import random\n"
      ],
      "metadata": {
        "id": "Tbh_D3kxD4gs"
      },
      "execution_count": 16,
      "outputs": []
    },
    {
      "cell_type": "code",
      "source": [
        "def transpose(M):\n",
        "    return list(map(list, zip(*M)))\n",
        "\n",
        "def matmul(A, B):\n",
        "    # Multiply A (m×n) by B (n×p)\n",
        "    result = [[0]*len(B[0]) for _ in range(len(A))]\n",
        "    for i in range(len(A)):\n",
        "        for j in range(len(B[0])):\n",
        "            for k in range(len(B)):\n",
        "                result[i][j] += A[i][k] * B[k][j]\n",
        "    return result\n",
        "\n",
        "def subtract_vec(a, b):\n",
        "    return [ai - bi for ai, bi in zip(a, b)]\n",
        "\n",
        "def outer(a, b):\n",
        "    return [[ai * bj for bj in b] for ai in a]\n",
        "\n",
        "def mean_vec(X):\n",
        "    n = len(X)\n",
        "    d = len(X[0])\n",
        "    return [sum(row[i] for row in X) / n for i in range(d)]\n",
        "\n",
        "def inverse_2x2(M):\n",
        "    det = M[0][0]*M[1][1] - M[0][1]*M[1][0]\n",
        "    return [[ M[1][1]/det, -M[0][1]/det],\n",
        "            [-M[1][0]/det,  M[0][0]/det]]\n"
      ],
      "metadata": {
        "id": "tbNUiBrWEAeQ"
      },
      "execution_count": 17,
      "outputs": []
    },
    {
      "cell_type": "code",
      "source": [
        "def lda_2class(X, y):\n",
        "    # Split by class\n",
        "    X1 = [X[i] for i in range(len(X)) if y[i] == 0]\n",
        "    X2 = [X[i] for i in range(len(X)) if y[i] == 1]\n",
        "\n",
        "    # Class means\n",
        "    m1, m2 = mean_vec(X1), mean_vec(X2)\n",
        "    overall_mean = mean_vec(X)\n",
        "\n",
        "    # Within-class scatter Sw\n",
        "    Sw = [[0,0],[0,0]]\n",
        "    for row in X1:\n",
        "        diff = subtract_vec(row, m1)\n",
        "        Sw = [[Sw[i][j] + outer(diff, diff)[i][j] for j in range(2)] for i in range(2)]\n",
        "    for row in X2:\n",
        "        diff = subtract_vec(row, m2)\n",
        "        Sw = [[Sw[i][j] + outer(diff, diff)[i][j] for j in range(2)] for i in range(2)]\n",
        "\n",
        "    # Between-class scatter Sb\n",
        "    mean_diff = subtract_vec(m1, m2)\n",
        "    Sb = outer(mean_diff, mean_diff)\n",
        "\n",
        "    # Solve eigenvector of inv(Sw)*Sb\n",
        "    Sw_inv = inverse_2x2(Sw)\n",
        "    M = matmul(Sw_inv, Sb)\n",
        "\n",
        "    # For 2x2, eigenvector can be approximated as the column with larger variance\n",
        "    w = [M[0][0] - M[1][1], M[0][1] + M[1][0]]\n",
        "\n",
        "    # Normalize w\n",
        "    norm = sum(val**2 for val in w) ** 0.5\n",
        "    w = [val/norm for val in w]\n",
        "\n",
        "    # Project data\n",
        "    projected = [sum(xi*wi for xi, wi in zip(row, w)) for row in X]\n",
        "\n",
        "    return w, projected"
      ],
      "metadata": {
        "id": "zneNzYctEFkD"
      },
      "execution_count": 18,
      "outputs": []
    },
    {
      "cell_type": "code",
      "source": [
        "random.seed(42)\n",
        "X = [[random.random(), random.random()] for _ in range(20)]\n",
        "y = [0]*10 + [1]*10   # first 10 belong to class 0, next 10 to class 1\n",
        "\n",
        "w, proj = lda_2class(X, y)\n",
        "\n",
        "print(\"Projection vector w:\", w)\n",
        "print(\"First 5 projected values:\", proj[:5])"
      ],
      "metadata": {
        "colab": {
          "base_uri": "https://localhost:8080/"
        },
        "id": "XN_UnW5cEMNY",
        "outputId": "fd7b1de3-a97d-440e-f33c-51ad7dcc3c95"
      },
      "execution_count": 19,
      "outputs": [
        {
          "output_type": "stream",
          "name": "stdout",
          "text": [
            "Projection vector w: [-0.5598788660512152, 0.8285744718184392]\n",
            "First 5 projected values: [-0.33727827754495737, 0.030963616566523605, 0.14836125210573836, -0.427477187354222, -0.2115358946100972]\n"
          ]
        }
      ]
    }
  ]
}