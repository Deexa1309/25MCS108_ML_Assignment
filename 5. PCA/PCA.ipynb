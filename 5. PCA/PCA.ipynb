{
  "nbformat": 4,
  "nbformat_minor": 0,
  "metadata": {
    "colab": {
      "provenance": [],
      "gpuType": "T4"
    },
    "kernelspec": {
      "name": "python3",
      "display_name": "Python 3"
    },
    "language_info": {
      "name": "python"
    },
    "accelerator": "GPU"
  },
  "cells": [
    {
      "cell_type": "markdown",
      "source": [
        "PCA without using built in Python libary\n",
        "\n"
      ],
      "metadata": {
        "id": "8jNsX8IxAH6q"
      }
    },
    {
      "cell_type": "code",
      "source": [
        "import random\n",
        "import math"
      ],
      "metadata": {
        "id": "xdxu0gNxCRcV"
      },
      "execution_count": 5,
      "outputs": []
    },
    {
      "cell_type": "code",
      "source": [
        "def generate_data(n_samples=10, n_features=3):\n",
        "    return [[random.random() for _ in range(n_features)] for _ in range(n_samples)]"
      ],
      "metadata": {
        "id": "zC0ltfDUCTPd"
      },
      "execution_count": 6,
      "outputs": []
    },
    {
      "cell_type": "code",
      "source": [
        "def center_data(X):\n",
        "    n_samples = len(X)\n",
        "    n_features = len(X[0])\n",
        "    means = [sum(row[i] for row in X) / n_samples for i in range(n_features)]\n",
        "    centered = [[row[i] - means[i] for i in range(n_features)] for row in X]\n",
        "    return centered, means"
      ],
      "metadata": {
        "id": "R2ty_UvqCVOi"
      },
      "execution_count": 7,
      "outputs": []
    },
    {
      "cell_type": "code",
      "source": [
        "def covariance_matrix(X):\n",
        "    n_samples = len(X)\n",
        "    n_features = len(X[0])\n",
        "    cov = [[0.0] * n_features for _ in range(n_features)]\n",
        "\n",
        "    for i in range(n_features):\n",
        "        for j in range(n_features):\n",
        "            cov[i][j] = sum(X[k][i] * X[k][j] for k in range(n_samples)) / (n_samples - 1)\n",
        "    return cov\n"
      ],
      "metadata": {
        "id": "TbaMbaykCXF5"
      },
      "execution_count": 8,
      "outputs": []
    },
    {
      "cell_type": "code",
      "source": [
        "def power_iteration(matrix, num_iter=100):\n",
        "    n = len(matrix)\n",
        "    b = [random.random() for _ in range(n)]\n",
        "\n",
        "    for _ in range(num_iter):\n",
        "        # multiply matrix * b\n",
        "        b_new = [sum(matrix[i][j] * b[j] for j in range(n)) for i in range(n)]\n",
        "        # normalize\n",
        "        norm = math.sqrt(sum(val**2 for val in b_new))\n",
        "        b = [val / norm for val in b_new]\n",
        "# eigenvalue = Rayleigh quotient\n",
        "    Ab = [sum(matrix[i][j] * b[j] for j in range(n)) for i in range(n)]\n",
        "    eigenvalue = sum(b[i] * Ab[i] for i in range(n))\n",
        "\n",
        "    return eigenvalue, b"
      ],
      "metadata": {
        "id": "C83m-gxSCZrj"
      },
      "execution_count": 11,
      "outputs": []
    },
    {
      "cell_type": "code",
      "source": [
        "def deflate(matrix, eigenvalue, eigenvector):\n",
        "    n = len(matrix)\n",
        "    for i in range(n):\n",
        "        for j in range(n):\n",
        "            matrix[i][j] -= eigenvalue * eigenvector[i] * eigenvector[j]\n",
        "    return matrix\n"
      ],
      "metadata": {
        "id": "U8AAFbTbCewc"
      },
      "execution_count": 12,
      "outputs": []
    },
    {
      "cell_type": "code",
      "source": [
        "def pca(X, n_components=2):\n",
        "    X_centered, means = center_data(X)\n",
        "    cov = covariance_matrix(X_centered)\n",
        "\n",
        "    eigvals, eigvecs = [], []\n",
        "\n",
        "    for _ in range(n_components):\n",
        "        val, vec = power_iteration(cov)\n",
        "        eigvals.append(val)\n",
        "        eigvecs.append(vec)\n",
        "        cov = deflate(cov, val, vec)\n",
        "\n",
        "    # Project data onto eigenvectors\n",
        "    transformed = []\n",
        "    for row in X_centered:\n",
        "        transformed.append([sum(row[i] * vec[i] for i in range(len(vec))) for vec in eigvecs])\n",
        "\n",
        "    return transformed, eigvals, eigvecs\n"
      ],
      "metadata": {
        "id": "q2d32EXaCjJD"
      },
      "execution_count": 13,
      "outputs": []
    },
    {
      "cell_type": "code",
      "source": [
        "X = generate_data(12, 3)\n",
        "transformed, eigvals, eigvecs = pca(X, n_components=2)\n",
        "\n",
        "print(\"Original data (first 3 rows):\", X[:3])\n",
        "print(\"Eigenvalues:\", eigvals)\n",
        "print(\"Eigenvectors:\", eigvecs)\n",
        "print(\"Transformed data (first 3 rows):\", transformed[:3])\n"
      ],
      "metadata": {
        "colab": {
          "base_uri": "https://localhost:8080/"
        },
        "id": "F0GDPFedCmMs",
        "outputId": "8fab9d78-62b3-467b-c0d6-9c317b318d23"
      },
      "execution_count": 14,
      "outputs": [
        {
          "output_type": "stream",
          "name": "stdout",
          "text": [
            "Original data (first 3 rows): [[0.42662948016195523, 0.13261795520581776, 0.3807088287427013], [0.10992502325317888, 0.042788872032860525, 0.7364580261541074], [0.7879494789681868, 0.15225929056675547, 0.16624936540555146]]\n",
            "Eigenvalues: [0.10476138367381072, 0.0778773671053624]\n",
            "Eigenvectors: [[0.73200681288583, 0.538650560042112, 0.4171589625730802], [-0.5915986077232409, 0.19886514906178412, 0.7813217901918244]]\n",
            "Transformed data (first 3 rows): [[-0.15347492499593338, -0.25225869082391805], [-0.2852872649552992, 0.19519395070857015], [0.03212990481456718, -0.6296709737940821]]\n"
          ]
        }
      ]
    }
  ]
}